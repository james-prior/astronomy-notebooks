{
 "metadata": {
  "name": ""
 },
 "nbformat": 3,
 "nbformat_minor": 0,
 "worksheets": [
  {
   "cells": [
    {
     "cell_type": "markdown",
     "metadata": {},
     "source": [
      "The point of this notebook is to show minimal code to provoke a deprecation issue."
     ]
    },
    {
     "cell_type": "code",
     "collapsed": false,
     "input": [
      "%pylab wx"
     ],
     "language": "python",
     "metadata": {},
     "outputs": [
      {
       "output_type": "stream",
       "stream": "stdout",
       "text": [
        "Populating the interactive namespace from numpy and matplotlib\n"
       ]
      }
     ],
     "prompt_number": 1
    },
    {
     "cell_type": "code",
     "collapsed": false,
     "input": [
      "from mayavi import mlab"
     ],
     "language": "python",
     "metadata": {},
     "outputs": [
      {
       "output_type": "stream",
       "stream": "stderr",
       "text": [
        "WARNING:traits.has_traits:DEPRECATED: traits.has_traits.wrapped_class, 'the 'implements' class advisor has been deprecated. Use the 'provides' class decorator.\n"
       ]
      }
     ],
     "prompt_number": 2
    },
    {
     "cell_type": "code",
     "collapsed": false,
     "input": [
      "!pip freeze"
     ],
     "language": "python",
     "metadata": {},
     "outputs": [
      {
       "output_type": "stream",
       "stream": "stdout",
       "text": [
        "Jinja2==2.7.2\r\n",
        "MarkupSafe==0.18\r\n",
        "PAM==0.4.2\r\n",
        "PIL==1.1.7\r\n",
        "Twisted-Core==12.2.0\r\n",
        "Twisted-Web==12.2.0\r\n",
        "VTK==5.8.0\r\n",
        "apptools==4.2.0\r\n",
        "apt-xapian-index==0.44\r\n",
        "argparse==1.2.1\r\n",
        "backports.ssl-match-hostname==3.4.0.2\r\n",
        "chardet==2.0.1\r\n",
        "configobj==4.7.2\r\n",
        "de405==1997\r\n",
        "de421==2008.1\r\n",
        "debtagshw==0.1\r\n",
        "defer==1.0.6\r\n",
        "dirspec==4.0.0\r\n",
        "distribute==0.7.3\r\n",
        "httplib2==0.7.4\r\n",
        "ipython==1.1.0\r\n",
        "jplephem==1.2\r\n",
        "lxml==2.3.5\r\n",
        "matplotlib==1.3.1\r\n",
        "mayavi==4.3.0\r\n",
        "nose==1.3.0\r\n",
        "numpy==1.8.0\r\n",
        "oauth==1.0.1\r\n",
        "oneconf==0.2.9.1\r\n",
        "pandas==0.12.0\r\n",
        "pexpect==2.4\r\n",
        "piston-mini-client==0.7.2\r\n",
        "pyOpenSSL==0.13\r\n",
        "pycups==1.9.62\r\n",
        "pycurl==7.19.0\r\n",
        "pyephem==3.7.5.2\r\n",
        "pyface==4.4.0\r\n",
        "pyparsing==2.0.1\r\n",
        "pyserial==2.5\r\n",
        "pysmbc==1.0.13\r\n",
        "python-apt==0.8.7ubuntu4.1\r\n",
        "python-dateutil==2.2\r\n",
        "python-debian==0.1.21-nmu2ubuntu1\r\n",
        "pytz==2013.9\r\n",
        "pyxdg==0.20\r\n",
        "pyzmq==14.0.1\r\n",
        "reportlab==2.5\r\n",
        "requests==2.2.0\r\n",
        "scipy==0.13.2\r\n",
        "sessioninstaller==0.0.0\r\n",
        "sgp4==1.1\r\n",
        "six==1.1.0\r\n",
        "skyfield==0.1\r\n",
        "software-center-aptd-plugins==0.0.0\r\n",
        "sympy==0.7.4.1\r\n",
        "tornado==3.2\r\n",
        "traits==4.4.0\r\n",
        "traitsui==4.4.0\r\n",
        "virtualenv==1.7.1.2\r\n",
        "wsgiref==0.1.2\r\n",
        "wxPython==2.8.12.1\r\n",
        "wxPython-common==2.8.12.1\r\n",
        "zope.interface==3.6.1\r\n"
       ]
      }
     ],
     "prompt_number": 3
    }
   ],
   "metadata": {}
  }
 ]
}