{
 "metadata": {
  "name": ""
 },
 "nbformat": 3,
 "nbformat_minor": 0,
 "worksheets": [
  {
   "cells": [
    {
     "cell_type": "code",
     "collapsed": false,
     "input": [
      "%pylab wx"
     ],
     "language": "python",
     "metadata": {},
     "outputs": [
      {
       "output_type": "stream",
       "stream": "stdout",
       "text": [
        "Populating the interactive namespace from numpy and matplotlib\n"
       ]
      }
     ],
     "prompt_number": 1
    },
    {
     "cell_type": "code",
     "collapsed": false,
     "input": [
      "from mayavi import mlab\n",
      "from mayavi.sources.builtin_surface import BuiltinSurface\n",
      "from datetime import datetime\n",
      "from sgp4.earth_gravity import wgs72\n",
      "from skyfield.constants import AU_KM\n",
      "from skyfield.planets import nine_planets, earth\n",
      "from skyfield.timescales import JulianDate\n",
      "\n",
      "planet_color = (0.7, 1.0, 1.0)\n",
      "yellow = (1.0, 1.0, 0.0)"
     ],
     "language": "python",
     "metadata": {},
     "outputs": [
      {
       "output_type": "stream",
       "stream": "stderr",
       "text": [
        "WARNING:traits.has_traits:DEPRECATED: traits.has_traits.wrapped_class, 'the 'implements' class advisor has been deprecated. Use the 'provides' class decorator.\n"
       ]
      },
      {
       "ename": "ImportError",
       "evalue": "No module named planets",
       "output_type": "pyerr",
       "traceback": [
        "\u001b[1;31m---------------------------------------------------------------------------\u001b[0m\n\u001b[1;31mImportError\u001b[0m                               Traceback (most recent call last)",
        "\u001b[1;32m<ipython-input-2-48cc599ebfdc>\u001b[0m in \u001b[0;36m<module>\u001b[1;34m()\u001b[0m\n\u001b[0;32m      4\u001b[0m \u001b[1;32mfrom\u001b[0m \u001b[0msgp4\u001b[0m\u001b[1;33m.\u001b[0m\u001b[0mearth_gravity\u001b[0m \u001b[1;32mimport\u001b[0m \u001b[0mwgs72\u001b[0m\u001b[1;33m\u001b[0m\u001b[0m\n\u001b[0;32m      5\u001b[0m \u001b[1;32mfrom\u001b[0m \u001b[0mskyfield\u001b[0m\u001b[1;33m.\u001b[0m\u001b[0mconstants\u001b[0m \u001b[1;32mimport\u001b[0m \u001b[0mAU_KM\u001b[0m\u001b[1;33m\u001b[0m\u001b[0m\n\u001b[1;32m----> 6\u001b[1;33m \u001b[1;32mfrom\u001b[0m \u001b[0mskyfield\u001b[0m\u001b[1;33m.\u001b[0m\u001b[0mplanets\u001b[0m \u001b[1;32mimport\u001b[0m \u001b[0mnine_planets\u001b[0m\u001b[1;33m,\u001b[0m \u001b[0mearth\u001b[0m\u001b[1;33m\u001b[0m\u001b[0m\n\u001b[0m\u001b[0;32m      7\u001b[0m \u001b[1;32mfrom\u001b[0m \u001b[0mskyfield\u001b[0m\u001b[1;33m.\u001b[0m\u001b[0mtimescales\u001b[0m \u001b[1;32mimport\u001b[0m \u001b[0mJulianDate\u001b[0m\u001b[1;33m\u001b[0m\u001b[0m\n\u001b[0;32m      8\u001b[0m \u001b[1;33m\u001b[0m\u001b[0m\n",
        "\u001b[1;31mImportError\u001b[0m: No module named planets"
       ]
      }
     ],
     "prompt_number": 2
    },
    {
     "cell_type": "code",
     "collapsed": false,
     "input": [
      "# One Earth year\n",
      "\n",
      "jd0 = JulianDate(datetime(1980, 6, 1, 0, 0, 0))\n",
      "jdarray = jd0.dayrange(365.251, 0.25)\n",
      "print 'Start:', jdarray.ut1[0]\n",
      "print 'End:  ', jdarray.ut1[-1]"
     ],
     "language": "python",
     "metadata": {},
     "outputs": []
    },
    {
     "cell_type": "code",
     "collapsed": false,
     "input": [
      "# Get ready to draw!\n",
      "\n",
      "mlab.clf()\n",
      "\n",
      "def reposition_camera(focalpoint=(0.0, 0.0, 0.0)):\n",
      "    \"\"\"Move the camera above the solar system.\"\"\"\n",
      "    mlab.view(azimuth=90.0, elevation=360.0 - 23.4,\n",
      "              distance=10, focalpoint=focalpoint)"
     ],
     "language": "python",
     "metadata": {},
     "outputs": []
    },
    {
     "cell_type": "code",
     "collapsed": false,
     "input": [
      "for planet in nine_planets:\n",
      "    x, y, z = planet(jdarray).position\n",
      "    mlab.plot3d(x, y, z, color=planet_color,\n",
      "                tube_radius=None, line_width=2.0)\n",
      "    print 'For', planet.name, 'plotted', len(x), 'points'\n",
      "\n",
      "reposition_camera()"
     ],
     "language": "python",
     "metadata": {},
     "outputs": []
    },
    {
     "cell_type": "code",
     "collapsed": false,
     "input": [
      "# Draw a sphere for the Sun\n",
      "\n",
      "sun_r = 695500.0 / AU_KM  # km\n",
      "sphere = mlab.points3d(0, 0, 0, name='Sun',\n",
      "      scale_mode='none', scale_factor=sun_r * 2.0,\n",
      "      color=yellow, resolution=50)\n",
      "reposition_camera()"
     ],
     "language": "python",
     "metadata": {},
     "outputs": []
    },
    {
     "cell_type": "code",
     "collapsed": false,
     "input": [
      "# Add the Earth\n",
      "\n",
      "x, y, z = earth(jd0).position\n",
      "r = wgs72.radiusearthkm / AU_KM\n",
      "ocean_blue = (0.4, 0.5, 1.0)\n",
      "sphere = mlab.points3d(x, y, z, name='Globe',\n",
      "    scale_mode='none', scale_factor=r * 2.0,\n",
      "    color=ocean_blue, resolution=50)\n",
      "#sphere.actor.property.specular = 0.20\n",
      "#sphere.actor.property.specular_power = 10\n",
      "\n",
      "reposition_camera((x, y, z))"
     ],
     "language": "python",
     "metadata": {},
     "outputs": []
    },
    {
     "cell_type": "code",
     "collapsed": false,
     "input": [],
     "language": "python",
     "metadata": {},
     "outputs": []
    }
   ],
   "metadata": {}
  }
 ]
}